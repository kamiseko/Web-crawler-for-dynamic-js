{
 "cells": [
  {
   "cell_type": "code",
   "execution_count": 3,
   "metadata": {
    "collapsed": true
   },
   "outputs": [],
   "source": [
    "#!/Tsan/bin/python\n",
    "# -*- coding: utf-8 -*-"
   ]
  },
  {
   "cell_type": "code",
   "execution_count": 4,
   "metadata": {
    "collapsed": true
   },
   "outputs": [],
   "source": [
    "# Libraries To Use\n",
    "from __future__ import division \n",
    "import numpy as np\n",
    "import pandas as pd\n",
    "import os\n",
    "from datetime import datetime,time,date,timedelta\n",
    "import matplotlib.pyplot as plt\n",
    "import seaborn as sns\n",
    "import mysql.connector \n",
    "from itertools import permutations,product\n",
    "import scipy as sp\n",
    "import calendar\n",
    "from imp import reload"
   ]
  },
  {
   "cell_type": "code",
   "execution_count": 41,
   "metadata": {
    "collapsed": true
   },
   "outputs": [],
   "source": [
    "import plotly.plotly as py\n",
    "import plotly.graph_objs as go\n",
    "import plotly"
   ]
  },
  {
   "cell_type": "code",
   "execution_count": 5,
   "metadata": {
    "collapsed": true
   },
   "outputs": [],
   "source": [
    "%load_ext line_profiler\n",
    "%matplotlib inline"
   ]
  },
  {
   "cell_type": "code",
   "execution_count": 6,
   "metadata": {
    "collapsed": true
   },
   "outputs": [],
   "source": [
    "# to import .py file from other directory\n",
    "import os\n",
    "import sys\n",
    "module_path = os.path.abspath(os.path.join('..'))\n",
    "if module_path not in sys.path:\n",
    "    sys.path.append(module_path)"
   ]
  },
  {
   "cell_type": "code",
   "execution_count": 7,
   "metadata": {
    "collapsed": true
   },
   "outputs": [],
   "source": [
    "data_directory = u'C:/Users/kamis/Desktop/cta合作需求文档/cta合作需求文档/'\n",
    "data_name = 'adjustAndResample.csv'"
   ]
  },
  {
   "cell_type": "code",
   "execution_count": 8,
   "metadata": {
    "collapsed": true
   },
   "outputs": [],
   "source": [
    "data_df = pd.read_csv(data_directory+data_name,infer_datetime_format=True,parse_dates=[0],index_col=0)\n",
    "data_df.index.name = 'time'\n",
    "data_df = data_df.head(500)"
   ]
  },
  {
   "cell_type": "code",
   "execution_count": 9,
   "metadata": {
    "collapsed": true
   },
   "outputs": [],
   "source": [
    "data_df['time_stamp'] = [x.strftime(\"%Y-%m-%d %H:%M:%S\") for x in data_df.index]"
   ]
  },
  {
   "cell_type": "code",
   "execution_count": 10,
   "metadata": {
    "collapsed": true
   },
   "outputs": [],
   "source": [
    "data_df['new_time_stamp'] = [unicode(x) for x in data_df.index]"
   ]
  },
  {
   "cell_type": "code",
   "execution_count": 125,
   "metadata": {},
   "outputs": [
    {
     "data": {
      "text/plain": [
       "'file://C:\\\\Users\\\\kamis\\\\Desktop\\\\myownlibrary\\\\tradingProject\\\\simple_candlestick.html'"
      ]
     },
     "execution_count": 125,
     "metadata": {},
     "output_type": "execute_result"
    }
   ],
   "source": [
    "\n",
    "\n",
    "#df = pd.read_csv('https://raw.githubusercontent.com/plotly/datasets/master/finance-charts-apple.csv')\n",
    "\n",
    "trace = go.Ohlc(#x=data_df.index,\n",
    "                x = data_df['new_time_stamp'],\n",
    "                open=data_df['raw_open'],\n",
    "                high=data_df['raw_high'],\n",
    "                low=data_df['raw_low'],\n",
    "                close=data_df['raw_close'])\n",
    "data = [trace]\n",
    "plotly.offline.plot(data, filename='simple_candlestick')"
   ]
  },
  {
   "cell_type": "code",
   "execution_count": 131,
   "metadata": {},
   "outputs": [
    {
     "data": {
      "text/plain": [
       "'file://C:\\\\Users\\\\kamis\\\\Desktop\\\\myownlibrary\\\\tradingProject\\\\simple_candlestick.html'"
      ]
     },
     "execution_count": 131,
     "metadata": {},
     "output_type": "execute_result"
    }
   ],
   "source": [
    "\n",
    "\n",
    "df = pd.read_csv('https://raw.githubusercontent.com/plotly/datasets/master/finance-charts-apple.csv')\n",
    "\n",
    "trace = go.Candlestick(x=df['Date'],\n",
    "                open=df['AAPL.Open'],\n",
    "                high=df['AAPL.High'],\n",
    "                low=df['AAPL.Low'],\n",
    "                close=df['AAPL.Close'])\n",
    "data = [trace]\n",
    "plotly.offline.plot(data, filename='simple_candlestick')"
   ]
  },
  {
   "cell_type": "code",
   "execution_count": 72,
   "metadata": {},
   "outputs": [
    {
     "data": {
      "text/plain": [
       "'file://C:\\\\Users\\\\kamis\\\\Desktop\\\\myownlibrary\\\\tradingProject\\\\intra_day_K_Line-demo.html'"
      ]
     },
     "execution_count": 72,
     "metadata": {},
     "output_type": "execute_result"
    }
   ],
   "source": [
    "# intraday(minute candlestick) with no gap\n",
    "trace = go.Candlestick(open=data_df.raw_open,\n",
    "                high=data_df.raw_high,\n",
    "                low=data_df.raw_low,\n",
    "                close=data_df.raw_close)\n",
    "layout = go.Layout(\n",
    "    title='financial data',\n",
    "    xaxis=go.layout.XAxis(\n",
    "        title='Time',\n",
    "        tickvals=list(range(len(data_df.index))),\n",
    "        ticktext=data_df.index),\n",
    "    yaxis=go.layout.YAxis(\n",
    "        title='Price'))\n",
    "\n",
    "data = go.Data([trace])\n",
    "fig = go.Figure(data=data, layout=layout)\n",
    "plotly.offline.plot(fig, filename='intra_day_K_Line-demo')"
   ]
  },
  {
   "cell_type": "code",
   "execution_count": 116,
   "metadata": {},
   "outputs": [
    {
     "data": {
      "text/plain": [
       "'3.6.1'"
      ]
     },
     "execution_count": 116,
     "metadata": {},
     "output_type": "execute_result"
    }
   ],
   "source": [
    "import plotly\n",
    "plotly.__version__"
   ]
  },
  {
   "cell_type": "code",
   "execution_count": 117,
   "metadata": {
    "collapsed": true
   },
   "outputs": [],
   "source": [
    "# 更好的画法"
   ]
  },
  {
   "cell_type": "code",
   "execution_count": 118,
   "metadata": {
    "collapsed": true
   },
   "outputs": [],
   "source": [
    "INCREASING_COLOR = '#17BECF'\n",
    "DECREASING_COLOR = '#7F7F7F'"
   ]
  },
  {
   "cell_type": "code",
   "execution_count": 119,
   "metadata": {},
   "outputs": [],
   "source": [
    "data = [ dict(\n",
    "    type = 'candlestick',\n",
    "    open = data_df.raw_open,\n",
    "    high = data_df.raw_high,\n",
    "    low = data_df.raw_low,\n",
    "    close = data_df.raw_close,\n",
    "    x = data_df.index,\n",
    "    yaxis = 'y2',\n",
    "    name = 'original_K_line',\n",
    "    increasing = dict( line = dict( color = INCREASING_COLOR ) ),\n",
    "    decreasing = dict( line = dict( color = DECREASING_COLOR ) ),\n",
    ") ]\n",
    "\n",
    "layout=dict()\n",
    "\n",
    "fig = dict( data=data, layout=layout )"
   ]
  },
  {
   "cell_type": "code",
   "execution_count": 120,
   "metadata": {
    "collapsed": true
   },
   "outputs": [],
   "source": [
    "xaxis=go.layout.XAxis(\n",
    "        title='Time',\n",
    "        tickvals=list(range(len(data_df.index))),\n",
    "        ticktext=data_df.index)"
   ]
  },
  {
   "cell_type": "code",
   "execution_count": 121,
   "metadata": {},
   "outputs": [],
   "source": [
    "# Create the layout object\n",
    "fig['layout'] = dict()\n",
    "fig['layout']['plot_bgcolor'] = 'rgb(250, 250, 250)'\n",
    "\n",
    "# fig['layout']['xaxis'] = dict( rangeselector = dict( visible = True ) )\n",
    "fig['layout']['xaxis'] = go.layout.XAxis(\n",
    "        title='Time',\n",
    "        tickvals=list(range(len(data_df.index))),\n",
    "        ticktext=data_df.index)\n",
    "fig['layout']['yaxis'] = dict( domain = [0, 0.2], showticklabels = True )\n",
    "fig['layout']['yaxis2'] = dict( domain = [0.2, 0.8] )\n",
    "fig['layout']['legend'] = dict( orientation = 'h', y=0.9, x=0.3, yanchor='bottom' )\n",
    "fig['layout']['margin'] = dict( t=40, b=40, r=40, l=40 )"
   ]
  },
  {
   "cell_type": "code",
   "execution_count": 122,
   "metadata": {},
   "outputs": [],
   "source": [
    "# Add Range Botton\n",
    "rangeselector=dict(\n",
    "    visibe = True,\n",
    "    x = 0, y = 0.9,\n",
    "    bgcolor = 'rgba(150, 200, 250, 0.4)',\n",
    "    font = dict( size = 13 ),\n",
    "    buttons=list([\n",
    "        dict(count=1,\n",
    "             label='reset',\n",
    "             step='all'),\n",
    "        dict(count=1,\n",
    "             label='1yr',\n",
    "             step='year',\n",
    "             stepmode='backward'),\n",
    "        dict(count=3,\n",
    "            label='3 mo',\n",
    "            step='month',\n",
    "            stepmode='backward'),\n",
    "        dict(count=1,\n",
    "            label='1 mo',\n",
    "            step='month',\n",
    "            stepmode='backward'),\n",
    "        dict(step='all')\n",
    "    ]))\n",
    "    \n",
    "fig['layout']['xaxis']['rangeselector'] = rangeselector"
   ]
  },
  {
   "cell_type": "code",
   "execution_count": 123,
   "metadata": {
    "collapsed": true
   },
   "outputs": [],
   "source": [
    "def movingaverage(interval, window_size=10):\n",
    "    window = np.ones(int(window_size))/float(window_size)\n",
    "    return np.convolve(interval, window, 'same')"
   ]
  },
  {
   "cell_type": "code",
   "execution_count": 124,
   "metadata": {
    "collapsed": true
   },
   "outputs": [],
   "source": [
    "mv_y = movingaverage(data_df.raw_close)\n",
    "mv_x = list(data_df.index)\n",
    "\n",
    "# Clip the ends\n",
    "mv_x = mv_x[5:-5]\n",
    "mv_y = mv_y[5:-5]\n",
    "\n",
    "fig['data'].append( dict( x=mv_x, y=mv_y, type='scatter', mode='lines', \n",
    "                         line = dict( width = 1 ),\n",
    "                         marker = dict( color = '#E377C2' ),\n",
    "                         yaxis = 'y2', name='Moving Average' ) )"
   ]
  },
  {
   "cell_type": "code",
   "execution_count": 125,
   "metadata": {
    "collapsed": true
   },
   "outputs": [],
   "source": [
    "# Set volume bar chart colors\n",
    "colors = []\n",
    "\n",
    "for i in range(len(data_df.raw_close)):\n",
    "    if i != 0:\n",
    "        if data_df.raw_close[i] > data_df.raw_close[i-1]:\n",
    "            colors.append(INCREASING_COLOR)\n",
    "        else:\n",
    "            colors.append(DECREASING_COLOR)\n",
    "    else:\n",
    "        colors.append(DECREASING_COLOR)"
   ]
  },
  {
   "cell_type": "code",
   "execution_count": 126,
   "metadata": {
    "collapsed": true
   },
   "outputs": [],
   "source": [
    "# Add volume bar chart\n",
    "fig['data'].append( dict( x=data_df.index, y=data_df.raw_volume,                         \n",
    "                         marker=dict( color=colors ),\n",
    "                         type='bar', yaxis='y', name='Volume' ) )"
   ]
  },
  {
   "cell_type": "code",
   "execution_count": 127,
   "metadata": {
    "collapsed": true
   },
   "outputs": [],
   "source": [
    "# Add bollinger bands\n",
    "def bbands(price, window_size=10, num_of_std=5):\n",
    "    rolling_mean = price.rolling(window=window_size).mean()\n",
    "    rolling_std  = price.rolling(window=window_size).std()\n",
    "    upper_band = rolling_mean + (rolling_std*num_of_std)\n",
    "    lower_band = rolling_mean - (rolling_std*num_of_std)\n",
    "    return rolling_mean, upper_band, lower_band\n",
    "\n",
    "bb_avg, bb_upper, bb_lower = bbands(data_df.raw_close)\n",
    "\n",
    "fig['data'].append( dict( x=data_df.index, y=bb_upper, type='scatter', yaxis='y2', \n",
    "                         line = dict( width = 1 ),\n",
    "                         marker=dict(color='#ccc'), hoverinfo='none', \n",
    "                         legendgroup='Bollinger Bands', name='Bollinger Bands') )\n",
    "\n",
    "fig['data'].append( dict( x=data_df.index, y=bb_lower, type='scatter', yaxis='y2',\n",
    "                         line = dict( width = 1 ),\n",
    "                         marker=dict(color='#ccc'), hoverinfo='none',\n",
    "                         legendgroup='Bollinger Bands', showlegend=False ) )"
   ]
  },
  {
   "cell_type": "code",
   "execution_count": 129,
   "metadata": {},
   "outputs": [
    {
     "data": {
      "text/plain": [
       "'file://C:\\\\Users\\\\kamis\\\\Desktop\\\\myownlibrary\\\\tradingProject\\\\candlestick-test-3.html'"
      ]
     },
     "execution_count": 129,
     "metadata": {},
     "output_type": "execute_result"
    }
   ],
   "source": [
    "# plot\n",
    "plotly.offline.plot( fig, filename = 'candlestick-test-3', validate = False )"
   ]
  }
 ],
 "metadata": {
  "kernelspec": {
   "display_name": "Python 2",
   "language": "python",
   "name": "python2"
  },
  "language_info": {
   "codemirror_mode": {
    "name": "ipython",
    "version": 2
   },
   "file_extension": ".py",
   "mimetype": "text/x-python",
   "name": "python",
   "nbconvert_exporter": "python",
   "pygments_lexer": "ipython2",
   "version": "2.7.14"
  },
  "toc": {
   "nav_menu": {},
   "number_sections": true,
   "sideBar": true,
   "skip_h1_title": false,
   "title_cell": "Table of Contents",
   "title_sidebar": "Contents",
   "toc_cell": false,
   "toc_position": {},
   "toc_section_display": true,
   "toc_window_display": false
  }
 },
 "nbformat": 4,
 "nbformat_minor": 2
}
